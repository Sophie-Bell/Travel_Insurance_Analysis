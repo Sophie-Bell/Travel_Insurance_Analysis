{
 "cells": [
  {
   "cell_type": "code",
   "execution_count": 2,
   "metadata": {},
   "outputs": [],
   "source": [
    "import numpy as np\n",
    "import pandas as pd\n",
    "import matplotlib.pyplot as plt\n",
    "import seaborn as sns\n",
    "import pickle\n",
    "from scipy import stats\n",
    "from scipy.stats import ttest_ind,chi2_contingency\n",
    "from statsmodels.stats.proportion import proportions_ztest"
   ]
  },
  {
   "cell_type": "code",
   "execution_count": 3,
   "metadata": {},
   "outputs": [
    {
     "data": {
      "text/html": [
       "<div>\n",
       "<style scoped>\n",
       "    .dataframe tbody tr th:only-of-type {\n",
       "        vertical-align: middle;\n",
       "    }\n",
       "\n",
       "    .dataframe tbody tr th {\n",
       "        vertical-align: top;\n",
       "    }\n",
       "\n",
       "    .dataframe thead th {\n",
       "        text-align: right;\n",
       "    }\n",
       "</style>\n",
       "<table border=\"1\" class=\"dataframe\">\n",
       "  <thead>\n",
       "    <tr style=\"text-align: right;\">\n",
       "      <th></th>\n",
       "      <th>Age</th>\n",
       "      <th>Employment Type</th>\n",
       "      <th>GraduateOrNot</th>\n",
       "      <th>AnnualIncome</th>\n",
       "      <th>FamilyMembers</th>\n",
       "      <th>ChronicDiseases</th>\n",
       "      <th>FrequentFlyer</th>\n",
       "      <th>EverTravelledAbroad</th>\n",
       "      <th>TravelInsurance</th>\n",
       "    </tr>\n",
       "  </thead>\n",
       "  <tbody>\n",
       "    <tr>\n",
       "      <th>0</th>\n",
       "      <td>31</td>\n",
       "      <td>Government Sector</td>\n",
       "      <td>1</td>\n",
       "      <td>400000</td>\n",
       "      <td>6</td>\n",
       "      <td>1</td>\n",
       "      <td>0</td>\n",
       "      <td>0</td>\n",
       "      <td>0</td>\n",
       "    </tr>\n",
       "    <tr>\n",
       "      <th>1</th>\n",
       "      <td>31</td>\n",
       "      <td>Private Sector</td>\n",
       "      <td>1</td>\n",
       "      <td>1250000</td>\n",
       "      <td>7</td>\n",
       "      <td>0</td>\n",
       "      <td>0</td>\n",
       "      <td>0</td>\n",
       "      <td>0</td>\n",
       "    </tr>\n",
       "    <tr>\n",
       "      <th>2</th>\n",
       "      <td>34</td>\n",
       "      <td>Private Sector</td>\n",
       "      <td>1</td>\n",
       "      <td>500000</td>\n",
       "      <td>4</td>\n",
       "      <td>1</td>\n",
       "      <td>0</td>\n",
       "      <td>0</td>\n",
       "      <td>1</td>\n",
       "    </tr>\n",
       "    <tr>\n",
       "      <th>3</th>\n",
       "      <td>28</td>\n",
       "      <td>Private Sector</td>\n",
       "      <td>1</td>\n",
       "      <td>700000</td>\n",
       "      <td>3</td>\n",
       "      <td>1</td>\n",
       "      <td>0</td>\n",
       "      <td>0</td>\n",
       "      <td>0</td>\n",
       "    </tr>\n",
       "    <tr>\n",
       "      <th>4</th>\n",
       "      <td>28</td>\n",
       "      <td>Private Sector</td>\n",
       "      <td>1</td>\n",
       "      <td>700000</td>\n",
       "      <td>8</td>\n",
       "      <td>1</td>\n",
       "      <td>1</td>\n",
       "      <td>0</td>\n",
       "      <td>0</td>\n",
       "    </tr>\n",
       "  </tbody>\n",
       "</table>\n",
       "</div>"
      ],
      "text/plain": [
       "   Age    Employment Type  GraduateOrNot  AnnualIncome  FamilyMembers  \\\n",
       "0   31  Government Sector              1        400000              6   \n",
       "1   31     Private Sector              1       1250000              7   \n",
       "2   34     Private Sector              1        500000              4   \n",
       "3   28     Private Sector              1        700000              3   \n",
       "4   28     Private Sector              1        700000              8   \n",
       "\n",
       "   ChronicDiseases  FrequentFlyer  EverTravelledAbroad  TravelInsurance  \n",
       "0                1              0                    0                0  \n",
       "1                0              0                    0                0  \n",
       "2                1              0                    0                1  \n",
       "3                1              0                    0                0  \n",
       "4                1              1                    0                0  "
      ]
     },
     "execution_count": 3,
     "metadata": {},
     "output_type": "execute_result"
    }
   ],
   "source": [
    "with open(\"../data/processed/01_data_processed.pkl\", \"rb\") as file:\n",
    "    df = pickle.load(file)\n",
    "    \n",
    "df.head(5)"
   ]
  },
  {
   "cell_type": "markdown",
   "metadata": {},
   "source": [
    "#### Hypothesis 1:\n",
    "Are self-employed individuals more likely to have higher incomes compared to those in the private sector?\n",
    "\n"
   ]
  },
  {
   "cell_type": "markdown",
   "metadata": {},
   "source": [
    "Null Hypothesis (H0): There is no significant difference in the average annual income between self-employed individuals and those in the private sector. In mathematical terms:\n",
    "\n",
    "H0: μ_self_employed = μ_private_sector\n",
    "\n",
    "Where:\n",
    "\n",
    "μ_self_employed is the population mean annual income of self-employed individuals.\n",
    "\n",
    "\n",
    "μ_private_sector is the population mean annual income of individuals in the private sector.\n",
    "\n",
    "<br>\n",
    "Alternate Hypothesis (H1): Self-employed individuals have a significantly higher average annual income compared to those in the private sector. In mathematical terms:\n",
    "\n",
    "H1: μ_self_employed > μ_private_sector\n",
    "\n",
    "Where:\n",
    "\n",
    "μ_self_employed is the population mean annual income of self-employed individuals.\n",
    "μ_private_sector is the population mean annual income of individuals in the private sector."
   ]
  },
  {
   "cell_type": "code",
   "execution_count": 4,
   "metadata": {},
   "outputs": [
    {
     "name": "stdout",
     "output_type": "stream",
     "text": [
      "Number of non government employees: 1417\n",
      "Variance in annual income of non government employees: 123843188044.75778\n",
      "Number of government employees: 570\n",
      "Variance in annual income of government employees: 126633648815.01971\n"
     ]
    }
   ],
   "source": [
    "# Collect data\n",
    "non_governmentemployee = df[df['Employment Type'] == 'Private Sector']\n",
    "governmentemployee = df[df['Employment Type'] == 'Government Sector']\n",
    "income_nongovtemployee = non_governmentemployee['AnnualIncome']\n",
    "income_govtemployee = governmentemployee['AnnualIncome']\n",
    "\n",
    "\n",
    "print(f'Number of non government employees: {non_governmentemployee.shape[0]}')\n",
    "print(f'Variance in annual income of non government employees: {np.var(income_nongovtemployee)}')\n",
    "print(f'Number of government employees: {governmentemployee.shape[0]}')\n",
    "print(f'Variance in annual income of government employees: {np.var(income_govtemployee )}')"
   ]
  },
  {
   "cell_type": "code",
   "execution_count": 5,
   "metadata": {},
   "outputs": [
    {
     "data": {
      "image/png": "[encoded data removed]",
      "text/plain": [
       "<Figure size 1000x600 with 1 Axes>"
      ]
     },
     "metadata": {},
     "output_type": "display_data"
    }
   ],
   "source": [
    "def visualize_income_by_employment(df, employment_column, income_column):\n",
    "    # Visualize Annual Income by Employment Type\n",
    "    plt.figure(figsize=(10, 6))\n",
    "    sns.boxplot(data=df, x=employment_column, y=income_column, hue=employment_column, palette=\"Set3\", legend=False)\n",
    "    plt.title('Annual Income by Employment Type')\n",
    "    plt.xlabel('Employment Type')\n",
    "    plt.ylabel('Annual Income')\n",
    "    plt.show()\n",
    "\n",
    "\n",
    "visualize_income_by_employment(df, 'Employment Type', 'AnnualIncome')"
   ]
  },
  {
   "cell_type": "code",
   "execution_count": 6,
   "metadata": {},
   "outputs": [
    {
     "name": "stdout",
     "output_type": "stream",
     "text": [
      "t_statistic: -16.51851412859321\n",
      "p_value: 1.3145273978776467e-54\n",
      "\n",
      "two-sample t-test p-value= 1.3145273978776467e-54\n",
      "Reject the null hypothesis: Private Sector individuals have a significantly higher average annual income compared to those not in the private sector\n"
     ]
    }
   ],
   "source": [
    "t_statistic, p_value = ttest_ind(income_govtemployee, income_nongovtemployee, equal_var=False)\n",
    "print(f't_statistic: {t_statistic}\\np_value: {p_value}')\n",
    "print (\"\\ntwo-sample t-test p-value=\", p_value)\n",
    "\n",
    "alpha = 0.05  # Significance level\n",
    "if p_value < alpha:\n",
    "    print(\"Reject the null hypothesis: Private Sector individuals have a significantly higher average annual income compared to those not in the private sector\")\n",
    "else:\n",
    "    print(\"Fail to reject the null hypothesis: Private Sector individuals do not have a significantly higher average annual income compared to those not in the private sector\")"
   ]
  },
  {
   "cell_type": "markdown",
   "metadata": {},
   "source": [
    "#### Hypothesis 2:\n",
    " Does the number of family members influence the decision to purchase travel insurance?\n",
    "\n"
   ]
  },
  {
   "cell_type": "markdown",
   "metadata": {},
   "source": [
    "Null Hypothesis (H0): The average proportion of individuals who purchase travel insurance is the same across all different family sizes.\n",
    "\n",
    "H0: μ_1 = μ_2 = μ_3 = ... = μ_k\n",
    "\n",
    "Where:\n",
    "\n",
    "μ_1 is the population proportion of individuals who purchase travel insurance in the first family size category.\n",
    "\n",
    "\n",
    "μ_2 is the population proportion of individuals who purchase travel insurance in the second family size category.\n",
    "\n",
    "μ_3 is the population proportion of individuals who purchase travel insurance in the third family size category.\n",
    "\n",
    "\n",
    "... (and so on for each family size category).\n",
    "\n",
    "<br>\n",
    "Alternate Hypothesis (H1): The average proportion of individuals who purchase travel insurance is not the same across all different family sizes.\n",
    "\n",
    "H1: At least one of the population proportions μ_i (where i represents each family size category) is different from the others."
   ]
  },
  {
   "cell_type": "code",
   "execution_count": 7,
   "metadata": {},
   "outputs": [
    {
     "name": "stdout",
     "output_type": "stream",
     "text": [
      "Number of insured individuals: 710\n",
      "Variance in the number of family members for insured individuals: 2.8127375520729947\n",
      "Number of uninsured individuals: 1277\n",
      "Variance in the number of family members for uninsured individuals: 2.439913682776212\n"
     ]
    },
    {
     "data": {
      "image/png": "[encoded data removed]",
      "text/plain": [
       "<Figure size 1000x600 with 1 Axes>"
      ]
     },
     "metadata": {},
     "output_type": "display_data"
    },
    {
     "name": "stdout",
     "output_type": "stream",
     "text": [
      "t_statistic: 3.499665212291613\n",
      "p_value: 0.000480675938052489\n",
      "Two-sample t-test p-value = 0.000480675938052489\n",
      "Reject the null hypothesis: There is an association between number of family members and travel insurance.\n"
     ]
    }
   ],
   "source": [
    "# Collect data\n",
    "insured_family = df[df['TravelInsurance'] == 1]\n",
    "uninsured_family = df[df['TravelInsurance'] == 0]\n",
    "family_insured = insured_family['FamilyMembers']\n",
    "family_uninsured = uninsured_family['FamilyMembers']\n",
    "\n",
    "print(f'Number of insured individuals: {insured_family.shape[0]}')\n",
    "print(f'Variance in the number of family members for insured individuals: {np.var(family_insured)}')\n",
    "print(f'Number of uninsured individuals: {uninsured_family.shape[0]}')\n",
    "print(f'Variance in the number of family members for uninsured individuals: {np.var(family_uninsured)}')\n",
    "\n",
    "def visualize_family_influence(df, insurance_column, family_column):\n",
    "    \n",
    "    plt.figure(figsize=(10, 6))\n",
    "    sns.boxplot(data=df, x=insurance_column, y=family_column, hue=insurance_column, palette=\"Set3\", legend=False)\n",
    "    plt.title('Family Influence on Travel Insurance')\n",
    "    plt.xlabel('Travel Insurance')\n",
    "    plt.ylabel('Number of Family Members')\n",
    "    plt.show()\n",
    "\n",
    "\n",
    "visualize_family_influence(df, 'TravelInsurance', 'FamilyMembers')\n",
    "\n",
    "t_statistic, p_value = ttest_ind(family_insured, family_uninsured, equal_var=False)\n",
    "print(f't_statistic: {t_statistic}\\np_value: {p_value}')\n",
    "print(\"Two-sample t-test p-value =\", p_value)\n",
    "\n",
    "alpha = 0.05  # Significance level\n",
    "if p_value < alpha:\n",
    "    print(\"Reject the null hypothesis: There is an association between number of family members and travel insurance.\")\n",
    "else:\n",
    "    print(\"Fail to reject the null hypothesis: There is no association between number of family members and travel insurance\")"
   ]
  },
  {
   "cell_type": "markdown",
   "metadata": {},
   "source": [
    "#### Hypothesis 3\n",
    "Are individuals with chronic diseases more inclined to buy travel insurance?\n",
    "\n"
   ]
  },
  {
   "cell_type": "markdown",
   "metadata": {},
   "source": [
    "Null Hypothesis (H0): The proportion of individuals with chronic diseases who purchase travel insurance is the same as the proportion of individuals without chronic diseases who purchase travel insurance.\n",
    "\n",
    "H0: P(ChronicDiseases = 1 | TravelInsurance = 1) = P(ChronicDiseases = 0 | TravelInsurance = 1)\n",
    "\n",
    "Where:\n",
    "\n",
    "P(ChronicDiseases = 1 | TravelInsurance = 1) is the proportion of individuals with chronic diseases who purchase travel insurance.\n",
    "\n",
    "\n",
    "P(ChronicDiseases = 0 | TravelInsurance = 1) is the proportion of individuals without chronic diseases who purchase travel insurance.\n",
    "\n",
    "<br>\n",
    "Alternate Hypothesis (H1): The proportion of individuals with chronic diseases who purchase travel insurance is different from the proportion of \n",
    "individuals without chronic diseases who purchase travel insurance.\n",
    "\n",
    "H1: P(ChronicDiseases = 1 | TravelInsurance = 1) ≠ P(ChronicDiseases = 0 | TravelInsurance = 1)"
   ]
  },
  {
   "cell_type": "code",
   "execution_count": 11,
   "metadata": {},
   "outputs": [
    {
     "name": "stdout",
     "output_type": "stream",
     "text": [
      "Number of insured individuals with chronic diseases: 205\n",
      "Number of uninsured individuals with chronic diseases: 347\n",
      "Number of insured individuals without chronic diseases: 505\n",
      "Number of uninsured individuals without chronic diseases: 930\n",
      "\n",
      "Chi-Squared Test Results:\n",
      "Chi-Squared Statistic: 0.5754114650274649\n",
      "p-value: 0.4481165216392011\n",
      "Fail to reject the null hypothesis: There is no association between chronic diseases and travel insurance.\n"
     ]
    }
   ],
   "source": [
    "# Collect data\n",
    "chronic_insured = df[(df['TravelInsurance'] == 1) & (df['ChronicDiseases'] == 1)]\n",
    "chronic_uninsured = df[(df['TravelInsurance'] == 0) & (df['ChronicDiseases'] == 1)]\n",
    "nochronic_insured = df[(df['TravelInsurance'] == 1) & (df['ChronicDiseases'] == 0)]\n",
    "nochronic_uninsured = df[(df['TravelInsurance'] == 0) & (df['ChronicDiseases'] == 0)]\n",
    "\n",
    "print(f'Number of insured individuals with chronic diseases: {chronic_insured.shape[0]}')\n",
    "print(f'Number of uninsured individuals with chronic diseases: {chronic_uninsured.shape[0]}')\n",
    "print(f'Number of insured individuals without chronic diseases: {nochronic_insured.shape[0]}')\n",
    "print(f'Number of uninsured individuals without chronic diseases: {nochronic_uninsured.shape[0]}')\n",
    "\n",
    "\n",
    "# Chi-Squared Test for Independence\n",
    "contingency_table = pd.crosstab(df['ChronicDiseases'], df['TravelInsurance'])\n",
    "chi2, p, _, _ = chi2_contingency(contingency_table)\n",
    "\n",
    "print(\"\\nChi-Squared Test Results:\")\n",
    "print(\"Chi-Squared Statistic:\", chi2)\n",
    "print(\"p-value:\", p)\n",
    "\n",
    "alpha = 0.05  # Significance level\n",
    "if p < alpha:\n",
    "    print(\"Reject the null hypothesis: There is an association between chronic diseases and travel insurance.\")\n",
    "else:\n",
    "    print(\"Fail to reject the null hypothesis: There is no association between chronic diseases and travel insurance.\")"
   ]
  },
  {
   "cell_type": "markdown",
   "metadata": {},
   "source": [
    "Variance was not calculated becaused it measures the spread or variability of values within a dataset. When you have a binary variable like \"ChronicDiseases,\" its variance will be low because it doesn't exhibit variability; it's always one of two values. In this context, a variance of 0 is expected and indicates that there's no variation in the presence of chronic diseases within each subset. "
   ]
  },
  {
   "cell_type": "markdown",
   "metadata": {},
   "source": [
    "#### Hypothesis 4\n",
    "Is there a significant difference in the proportion of people who have traveled abroad between those with and without travel insurance?"
   ]
  },
  {
   "cell_type": "markdown",
   "metadata": {},
   "source": [
    "Null Hypothesis (H0): The proportion of individuals who have traveled abroad is the same for those with travel insurance and those without travel insurance.\n",
    "\n",
    "H0: P(EverTravelledAbroad = 1 | TravelInsurance = 1) = P(EverTravelledAbroad = 1 | TravelInsurance = 0)\n",
    "\n",
    "Where:\n",
    "\n",
    "P(EverTravelledAbroad = 1 | TravelInsurance = 1) is the proportion of individuals with travel insurance who have traveled abroad.\n",
    "P(EverTravelledAbroad = 1 | TravelInsurance = 0) is the proportion of individuals without travel insurance who have traveled abroad.\n",
    "\n",
    "<br>\n",
    "Alternate Hypothesis (H1): The proportion of individuals who have traveled abroad is different for those with travel insurance and those without travel insurance.\n",
    "\n",
    "H1: P(EverTravelledAbroad = 1 | TravelInsurance = 1) ≠ P(EverTravelledAbroad = 1 | TravelInsurance = 0)"
   ]
  },
  {
   "cell_type": "code",
   "execution_count": 9,
   "metadata": {},
   "outputs": [
    {
     "name": "stdout",
     "output_type": "stream",
     "text": [
      "Number of insured individuals who have traveled abroad: 298\n",
      "Number of uninsured individuals who have traveled abroad: 82\n",
      "Number of insured individuals who have not traveled abroad: 412\n",
      "Number of uninsured individuals who have not traveled abroad: 1195\n"
     ]
    },
    {
     "data": {
      "image/png": "[encoded data removed]",
      "text/plain": [
       "<Figure size 1000x600 with 1 Axes>"
      ]
     },
     "metadata": {},
     "output_type": "display_data"
    },
    {
     "name": "stdout",
     "output_type": "stream",
     "text": [
      "\n",
      "Chi-Squared Test Results:\n",
      "Chi-Squared Statistic: 370.5599281861554\n",
      "p-value: 1.4134505859999571e-82\n",
      "Reject the null hypothesis: There is an association between traveling abroad and travel insurance.\n"
     ]
    }
   ],
   "source": [
    "# Collect data\n",
    "abroad_insured = df[(df['TravelInsurance'] == 1) & (df['EverTravelledAbroad'] == 1)]\n",
    "abroad_uninsured = df[(df['TravelInsurance'] == 0) & (df['EverTravelledAbroad'] == 1)]\n",
    "noabroad_insured = df[(df['TravelInsurance'] == 1) & (df['EverTravelledAbroad'] == 0)]\n",
    "noabroad_uninsured = df[(df['TravelInsurance'] == 0) & (df['EverTravelledAbroad'] == 0)]\n",
    "\n",
    "print(f'Number of insured individuals who have traveled abroad: {abroad_insured.shape[0]}')\n",
    "print(f'Number of uninsured individuals who have traveled abroad: {abroad_uninsured.shape[0]}')\n",
    "print(f'Number of insured individuals who have not traveled abroad: {noabroad_insured.shape[0]}')\n",
    "print(f'Number of uninsured individuals who have not traveled abroad: {noabroad_uninsured.shape[0]}')\n",
    "\n",
    "# Visualize the impact of travel insurance on traveling abroad\n",
    "plt.figure(figsize=(10, 6))\n",
    "sns.countplot(data=df, x='EverTravelledAbroad', hue='TravelInsurance', palette=\"Set2\")\n",
    "plt.title('Impact of Travel Insurance on Traveling Abroad')\n",
    "plt.xlabel('Ever Traveled Abroad')\n",
    "plt.ylabel('Count')\n",
    "plt.legend(title='Travel Insurance', labels=['Not Purchased', 'Purchased'])\n",
    "plt.show()\n",
    "\n",
    "# Chi-Squared Test for Independence\n",
    "contingency_table = pd.crosstab(df['EverTravelledAbroad'], df['TravelInsurance'])\n",
    "chi2, p, _, _ = chi2_contingency(contingency_table)\n",
    "\n",
    "print(\"\\nChi-Squared Test Results:\")\n",
    "print(\"Chi-Squared Statistic:\", chi2)\n",
    "print(\"p-value:\", p)\n",
    "\n",
    "alpha = 0.05  # Significance level\n",
    "if p < alpha:\n",
    "    print(\"Reject the null hypothesis: There is an association between traveling abroad and travel insurance.\")\n",
    "else:\n",
    "    print(\"Fail to reject the null hypothesis: There is no association between traveling abroad and travel insurance.\")\n"
   ]
  }
 ],
 "metadata": {
  "kernelspec": {
   "display_name": "Python 3",
   "language": "python",
   "name": "python3"
  },
  "language_info": {
   "codemirror_mode": {
    "name": "ipython",
    "version": 3
   },
   "file_extension": ".py",
   "mimetype": "text/x-python",
   "name": "python",
   "nbconvert_exporter": "python",
   "pygments_lexer": "ipython3",
   "version": "3.8.15"
  }
 },
 "nbformat": 4,
 "nbformat_minor": 2
}
